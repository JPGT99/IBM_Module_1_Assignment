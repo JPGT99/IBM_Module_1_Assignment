{
 "cells": [
  {
   "cell_type": "markdown",
   "id": "1092833f",
   "metadata": {},
   "source": [
    "My Jupyter Notebook on IBM Watson Studio\n"
   ]
  },
  {
   "cell_type": "markdown",
   "id": "2bf96302",
   "metadata": {},
   "source": [
    "James Thygesen. Data Scientist. "
   ]
  },
  {
   "cell_type": "markdown",
   "id": "c097ae20",
   "metadata": {},
   "source": [
    "*My interest in data science stems from a desire to extrapolate and analyse complex data sources.*"
   ]
  },
  {
   "cell_type": "code",
   "execution_count": 1,
   "id": "6d44573f",
   "metadata": {},
   "outputs": [
    {
     "data": {
      "text/plain": [
       "2"
      ]
     },
     "execution_count": 1,
     "metadata": {},
     "output_type": "execute_result"
    }
   ],
   "source": [
    "1+1"
   ]
  },
  {
   "cell_type": "markdown",
   "id": "65db9e06",
   "metadata": {},
   "source": [
    "<a href=\"https://dataplatform.cloud.ibm.com/gallery\">IBM Cloud Gallery</a>\n",
    "\n",
    "***\n",
    "\n",
    "| header 1 | header 2 |\n",
    "| ------ | ------ |\n",
    "| cell 1 | cell 2 |\n",
    "\n",
    "***\n",
    "\n",
    "- bullet 1\n",
    "- bullet 2\n",
    "\n"
   ]
  },
  {
   "cell_type": "code",
   "execution_count": null,
   "id": "fb9c8bd4",
   "metadata": {},
   "outputs": [],
   "source": []
  }
 ],
 "metadata": {
  "kernelspec": {
   "display_name": "Python 3 (ipykernel)",
   "language": "python",
   "name": "python3"
  },
  "language_info": {
   "codemirror_mode": {
    "name": "ipython",
    "version": 3
   },
   "file_extension": ".py",
   "mimetype": "text/x-python",
   "name": "python",
   "nbconvert_exporter": "python",
   "pygments_lexer": "ipython3",
   "version": "3.9.13"
  }
 },
 "nbformat": 4,
 "nbformat_minor": 5
}
